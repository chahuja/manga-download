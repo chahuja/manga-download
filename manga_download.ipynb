{
 "cells": [
  {
   "cell_type": "code",
   "execution_count": 1,
   "metadata": {
    "collapsed": false
   },
   "outputs": [],
   "source": [
    "# Make sure all these libraries are installed before proceeding\n",
    "import urlparse as prs\n",
    "import urllib2\n",
    "import os\n",
    "from collections import namedtuple\n",
    "import pdb"
   ]
  },
  {
   "cell_type": "code",
   "execution_count": 2,
   "metadata": {
    "collapsed": false
   },
   "outputs": [],
   "source": [
    "def updateSite(site):\n",
    "    site_parse = prs.urlparse(site)\n",
    "    ext_parse = site_parse.path.split('.')\n",
    "    num_parse = ext_parse[0].split('-')\n",
    "    # update number\n",
    "    num_parse[-1] = str(int(num_parse[-1]) + 1)\n",
    "    ext_parse[0] = \"-\".join(num_parse)\n",
    "    site_parse_asdict = site_parse._asdict()\n",
    "    site_parse_asdict['path']= \".\".join(ext_parse)\n",
    "    updated_site = namedtuple('ParseResult', site_parse_asdict.keys())(**site_parse_asdict)\n",
    "    updated_site = prs.urlunparse(updated_site)\n",
    "    return updated_site"
   ]
  },
  {
   "cell_type": "code",
   "execution_count": 3,
   "metadata": {
    "collapsed": true
   },
   "outputs": [],
   "source": [
    "hdr = {'User-Agent': 'Mozilla/5.0 (X11; Linux x86_64) AppleWebKit/537.11 (KHTML, like Gecko) Chrome/23.0.1271.64 Safari/537.11',\n",
    "       'Accept': 'text/html,application/xhtml+xml,application/xml;q=0.9,*/*;q=0.8',\n",
    "       'Accept-Charset': 'ISO-8859-1,utf-8;q=0.7,*;q=0.3',\n",
    "       'Accept-Encoding': 'none',\n",
    "       'Accept-Language': 'en-US,en;q=0.8',\n",
    "       'Connection': 'keep-alive'}"
   ]
  },
  {
   "cell_type": "markdown",
   "metadata": {},
   "source": [
    "## User Specific Data"
   ]
  },
  {
   "cell_type": "code",
   "execution_count": 4,
   "metadata": {
    "collapsed": false
   },
   "outputs": [
    {
     "name": "stdout",
     "output_type": "stream",
     "text": [
      "Folder already exists\n"
     ]
    }
   ],
   "source": [
    "# Starting Image path on the server\n",
    "site = \"http://i8.mangareader.net/liar-game/1/liar-game-1846821.jpg\"\n",
    "# Folder to store the generated images\n",
    "folder = 'ch1'\n",
    "## Make the folder if it is not already made\n",
    "try:\n",
    "    os.makedirs(folder)\n",
    "except:\n",
    "    print(\"Folder already exists\")\n",
    "# Hardcoded number of images in each chapter\n",
    "MAX_FILES = 224\n",
    "count = 0"
   ]
  },
  {
   "cell_type": "code",
   "execution_count": null,
   "metadata": {
    "collapsed": false
   },
   "outputs": [
    {
     "name": "stdout",
     "output_type": "stream",
     "text": [
      "1\n",
      "2\n",
      "3\n",
      "4\n",
      "5\n",
      "6\n",
      "7\n",
      "8\n",
      "9\n",
      "10\n",
      "11\n",
      "12\n",
      "13\n"
     ]
    }
   ],
   "source": [
    "\"\"\"\n",
    "Starts with the given site and updates the number in the filename in the image.\n",
    "Check each filename until you reach the limit of the number of images in the chapter.\n",
    "\"\"\"\n",
    "\n",
    "while(count < MAX_FILES):\n",
    "    req = urllib2.Request(site, headers=hdr)\n",
    "    try:\n",
    "        page = urllib2.urlopen(req)\n",
    "        content = page.read()\n",
    "        count+=1\n",
    "        print(count)\n",
    "        filename = os.path.join(folder,'%s-%03d.jpg'%(folder,count))\n",
    "        with open(filename,'w') as fid:\n",
    "            fid.write(content)\n",
    "    except:\n",
    "        pass\n",
    "        \n",
    "    # update the number in the site\n",
    "    site = updateSite(site)"
   ]
  }
 ],
 "metadata": {
  "kernelspec": {
   "display_name": "Python 2",
   "language": "python",
   "name": "python2"
  },
  "language_info": {
   "codemirror_mode": {
    "name": "ipython",
    "version": 2
   },
   "file_extension": ".py",
   "mimetype": "text/x-python",
   "name": "python",
   "nbconvert_exporter": "python",
   "pygments_lexer": "ipython2",
   "version": "2.7.11"
  }
 },
 "nbformat": 4,
 "nbformat_minor": 0
}
