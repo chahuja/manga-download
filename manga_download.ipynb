{
 "cells": [
  {
   "cell_type": "code",
   "execution_count": null,
   "metadata": {
    "collapsed": false
   },
   "outputs": [],
   "source": [
    "# Make sure all these libraries are installed before proceeding\n",
    "import urlparse as prs\n",
    "import urllib2\n",
    "import os\n",
    "from collections import namedtuple\n",
    "import pdb\n",
    "from bs4 import BeautifulSoup"
   ]
  },
  {
   "cell_type": "code",
   "execution_count": null,
   "metadata": {
    "collapsed": true
   },
   "outputs": [],
   "source": [
    "hdr = {'User-Agent': 'Mozilla/5.0 (X11; Linux x86_64) AppleWebKit/537.11 (KHTML, like Gecko) Chrome/23.0.1271.64 Safari/537.11',\n",
    "       'Accept': 'text/html,application/xhtml+xml,application/xml;q=0.9,*/*;q=0.8',\n",
    "       'Accept-Charset': 'ISO-8859-1,utf-8;q=0.7,*;q=0.3',\n",
    "       'Accept-Encoding': 'none',\n",
    "       'Accept-Language': 'en-US,en;q=0.8',\n",
    "       'Connection': 'keep-alive'}"
   ]
  },
  {
   "cell_type": "markdown",
   "metadata": {},
   "source": [
    "## User Specific Data"
   ]
  },
  {
   "cell_type": "code",
   "execution_count": null,
   "metadata": {
    "collapsed": false
   },
   "outputs": [],
   "source": [
    "# Starting html path of the manga\n",
    "site = \"http://www.mangareader.net/death-note/1/1\"\n",
    "# Folder to store the generated images\n",
    "folder = 'dn'\n",
    "## Make the folder if it is not already made\n",
    "try:\n",
    "    os.makedirs(folder)\n",
    "except:\n",
    "    print(\"Folder already exists\")\n",
    "# Hardcoded number of chapters\n",
    "MAX_CHAP = 109\n",
    "chap = 1\n",
    "ep = 1"
   ]
  },
  {
   "cell_type": "code",
   "execution_count": null,
   "metadata": {
    "collapsed": false
   },
   "outputs": [],
   "source": [
    "\"\"\"\n",
    "Starts with the given site and updates the number in the filename in the image.\n",
    "Check each filename until you reach the limit of the number of images in the chapter.\n",
    "\"\"\"\n",
    "\n",
    "site_base = '/'.join(site.split('/'))[:-3]\n",
    "\n",
    "for chap in range(1,MAX_CHAP+1):\n",
    "    ep = 1\n",
    "    while(1):\n",
    "        # update numbers in the site\n",
    "        site = os.path.join(site_base,str(chap),str(ep))\n",
    "        # Read the html page with the image\n",
    "        req = urllib2.Request(site, headers=hdr)\n",
    "        try:\n",
    "            page = urllib2.urlopen(req)\n",
    "            content = page.read()\n",
    "            soup = BeautifulSoup(content, 'html.parser')\n",
    "            for link in soup.find_all('img'):\n",
    "                url = link.get('src')\n",
    "\n",
    "            # Read the image url to get the content of the image\n",
    "            req = urllib2.Request(url, headers=hdr)\n",
    "            page = urllib2.urlopen(req)\n",
    "            content = page.read()\n",
    "            try:\n",
    "                os.makedirs(os.path.join(folder,'%s-%03d'%(folder,chap)))\n",
    "            except:\n",
    "                pass\n",
    "            filename = os.path.join(folder,'%s-%03d'%(folder,chap),'%s-%03d-%03d.jpg'%(folder,chap,ep))\n",
    "            ep+=1\n",
    "            with open(filename,'w') as fid:\n",
    "                fid.write(content)\n",
    "        except:\n",
    "            break\n",
    "    print(chap)    "
   ]
  }
 ],
 "metadata": {
  "kernelspec": {
   "display_name": "Python 2",
   "language": "python",
   "name": "python2"
  },
  "language_info": {
   "codemirror_mode": {
    "name": "ipython",
    "version": 2
   },
   "file_extension": ".py",
   "mimetype": "text/x-python",
   "name": "python",
   "nbconvert_exporter": "python",
   "pygments_lexer": "ipython2",
   "version": "2.7.11"
  }
 },
 "nbformat": 4,
 "nbformat_minor": 0
}
